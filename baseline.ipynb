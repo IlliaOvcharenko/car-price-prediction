{
 "cells": [
  {
   "cell_type": "code",
   "execution_count": 1,
   "metadata": {},
   "outputs": [],
   "source": [
    "import warnings\n",
    "warnings.filterwarnings(\"ignore\")\n",
    "\n",
    "import numpy as np\n",
    "import pandas as pd\n",
    "import matplotlib.pyplot as plt\n",
    "\n",
    "from pathlib import Path\n",
    "from sklearn.model_selection import KFold\n",
    "from sklearn.model_selection import StratifiedKFold\n",
    "from sklearn.model_selection import GroupKFold\n",
    "from sklearn.metrics import mean_squared_error\n",
    "from sklearn.preprocessing import LabelEncoder\n",
    "from sklearn.preprocessing import KBinsDiscretizer\n",
    "from sklearn.impute import SimpleImputer \n",
    "from sklearn.impute import MissingIndicator\n",
    "from sklearn.ensemble import RandomForestRegressor\n",
    "from xgboost import XGBRegressor\n",
    "from lightgbm import LGBMRegressor\n",
    "from catboost import CatBoostRegressor\n",
    "\n",
    "from src.utils import mape\n",
    "from src.utils import zip_dataframes\n",
    "from src.utils import unzip_dataframes\n",
    "from src.utils import create_submit_df\n",
    "from src.train import cross_validate\n",
    "from src.train import full_tain_pred\n",
    "from src.train import preprocessing\n",
    "from src.preprocessing import *"
   ]
  },
  {
   "cell_type": "markdown",
   "metadata": {},
   "source": [
    "## Data loading"
   ]
  },
  {
   "cell_type": "code",
   "execution_count": 2,
   "metadata": {},
   "outputs": [],
   "source": [
    "data_folder = Path(\"data\")\n",
    "submissions_folder = Path(\"submissions\")\n",
    "\n",
    "train_df = pd.read_csv(data_folder / \"train.csv\", index_col=0)\n",
    "test_df = pd.read_csv(data_folder / \"test_no_target.csv\", index_col=0)\n",
    "zipcodes_df = pd.read_csv(data_folder / \"zipcodes.csv\", index_col=0)\n",
    "\n",
    "train_df = pd.merge(train_df.reset_index(), zipcodes_df.drop_duplicates(\"zipcode\"), on=\"zipcode\", how=\"left\")\n",
    "test_df = pd.merge(test_df.reset_index(), zipcodes_df.drop_duplicates(\"zipcode\"), on=\"zipcode\", how=\"left\")"
   ]
  },
  {
   "cell_type": "markdown",
   "metadata": {},
   "source": [
    "## Cross-validation predict"
   ]
  },
  {
   "cell_type": "code",
   "execution_count": 3,
   "metadata": {},
   "outputs": [],
   "source": [
    "# model = XGBRegressor(\n",
    "#     random_state=42,\n",
    "#     n_estimators=500,\n",
    "#     max_depth=5,\n",
    "#     objective=\"reg:gamma\"\n",
    "# )\n",
    "\n",
    "# model = CatBoostRegressor(\n",
    "#     random_state=42,\n",
    "#     depth=10,\n",
    "#     loss_function=\"MAE\",\n",
    "#     cat_features=[1, 3, 5, 7, 8, 12],\n",
    "#     verbose=False,\n",
    "# )"
   ]
  },
  {
   "cell_type": "code",
   "execution_count": 4,
   "metadata": {},
   "outputs": [
    {
     "name": "stdout",
     "output_type": "stream",
     "text": [
      "fold 1 score: 22.630212321737638\n",
      "fold 2 score: 22.883187143732364\n",
      "fold 3 score: 21.838743499291542\n",
      "fold 4 score: 23.238107728160116\n",
      "mean score: 22.647562673230414\n",
      "score variance: 0.2646879609573328\n"
     ]
    }
   ],
   "source": [
    "model = LGBMRegressor(\n",
    "    random_state=42,\n",
    "#     boosting=\"dart\",\n",
    "#     objective='regression_l1',\n",
    "    objective='mape',\n",
    "    num_leaves=100,\n",
    "    feature_fraction=0.9,\n",
    "    max_depth=-1,\n",
    "    learning_rate=0.03,\n",
    "    num_iterations=1300,\n",
    "    subsample=0.5,\n",
    ")\n",
    "\n",
    "kfold = StratifiedKFold(n_splits=4, random_state=42, shuffle=True)\n",
    "preproc_funcs = [\n",
    "    indicate_missing,\n",
    "    impute_nan_with_zero,\n",
    "    drop_columns,\n",
    "#     drop_price_outliers,\n",
    "    cat_encode,\n",
    "]\n",
    "\n",
    "val_scores, test_preds = cross_validate(\n",
    "    model, \n",
    "    train_df,\n",
    "    kfold,\n",
    "    mape,\n",
    "    preproc_funcs,\n",
    "    test_df=test_df,\n",
    "    log_target=True,\n",
    ")"
   ]
  },
  {
   "cell_type": "code",
   "execution_count": 5,
   "metadata": {},
   "outputs": [
    {
     "data": {
      "text/html": [
       "<div>\n",
       "<style scoped>\n",
       "    .dataframe tbody tr th:only-of-type {\n",
       "        vertical-align: middle;\n",
       "    }\n",
       "\n",
       "    .dataframe tbody tr th {\n",
       "        vertical-align: top;\n",
       "    }\n",
       "\n",
       "    .dataframe thead th {\n",
       "        text-align: right;\n",
       "    }\n",
       "</style>\n",
       "<table border=\"1\" class=\"dataframe\">\n",
       "  <thead>\n",
       "    <tr style=\"text-align: right;\">\n",
       "      <th></th>\n",
       "      <th>Id</th>\n",
       "      <th>Predicted</th>\n",
       "    </tr>\n",
       "  </thead>\n",
       "  <tbody>\n",
       "    <tr>\n",
       "      <th>0</th>\n",
       "      <td>60314</td>\n",
       "      <td>11055.729322</td>\n",
       "    </tr>\n",
       "    <tr>\n",
       "      <th>1</th>\n",
       "      <td>12566</td>\n",
       "      <td>10930.803264</td>\n",
       "    </tr>\n",
       "    <tr>\n",
       "      <th>2</th>\n",
       "      <td>17760</td>\n",
       "      <td>7208.192191</td>\n",
       "    </tr>\n",
       "    <tr>\n",
       "      <th>3</th>\n",
       "      <td>8876</td>\n",
       "      <td>886.556744</td>\n",
       "    </tr>\n",
       "    <tr>\n",
       "      <th>4</th>\n",
       "      <td>80392</td>\n",
       "      <td>6874.174200</td>\n",
       "    </tr>\n",
       "    <tr>\n",
       "      <th>...</th>\n",
       "      <td>...</td>\n",
       "      <td>...</td>\n",
       "    </tr>\n",
       "    <tr>\n",
       "      <th>49995</th>\n",
       "      <td>93878</td>\n",
       "      <td>1474.885184</td>\n",
       "    </tr>\n",
       "    <tr>\n",
       "      <th>49996</th>\n",
       "      <td>99783</td>\n",
       "      <td>3460.609972</td>\n",
       "    </tr>\n",
       "    <tr>\n",
       "      <th>49997</th>\n",
       "      <td>57399</td>\n",
       "      <td>1795.324888</td>\n",
       "    </tr>\n",
       "    <tr>\n",
       "      <th>49998</th>\n",
       "      <td>97106</td>\n",
       "      <td>11080.483846</td>\n",
       "    </tr>\n",
       "    <tr>\n",
       "      <th>49999</th>\n",
       "      <td>478</td>\n",
       "      <td>887.544512</td>\n",
       "    </tr>\n",
       "  </tbody>\n",
       "</table>\n",
       "<p>50000 rows × 2 columns</p>\n",
       "</div>"
      ],
      "text/plain": [
       "          Id     Predicted\n",
       "0      60314  11055.729322\n",
       "1      12566  10930.803264\n",
       "2      17760   7208.192191\n",
       "3       8876    886.556744\n",
       "4      80392   6874.174200\n",
       "...      ...           ...\n",
       "49995  93878   1474.885184\n",
       "49996  99783   3460.609972\n",
       "49997  57399   1795.324888\n",
       "49998  97106  11080.483846\n",
       "49999    478    887.544512\n",
       "\n",
       "[50000 rows x 2 columns]"
      ]
     },
     "execution_count": 5,
     "metadata": {},
     "output_type": "execute_result"
    }
   ],
   "source": [
    "submit_df = create_submit_df(test_df, np.mean(test_preds, axis=0))\n",
    "submit_df.to_csv(submissions_folder / \"lgbm-logtarget-stratkfold.csv\", index=False)\n",
    "submit_df"
   ]
  },
  {
   "cell_type": "code",
   "execution_count": 6,
   "metadata": {},
   "outputs": [
    {
     "data": {
      "image/png": "[encoded data removed]",
      "text/plain": [
       "<Figure size 1440x360 with 1 Axes>"
      ]
     },
     "metadata": {
      "needs_background": "light"
     },
     "output_type": "display_data"
    }
   ],
   "source": [
    "train_features = [\n",
    "    'engine_capacity', 'type', 'registration_year', 'gearbox',\n",
    "    'power', 'model', 'mileage', 'fuel', 'brand', 'damage', 'zipcode',\n",
    "    'insurance_price', 'city', 'latitude', 'longitude'\n",
    "]\n",
    "\n",
    "plt.figure(figsize=(20, 5))\n",
    "plt.plot(model.feature_importances_)\n",
    "plt.xticks(ticks=range(len(train_features)),labels=train_features, rotation='vertical')\n",
    "plt.grid()"
   ]
  }
 ],
 "metadata": {
  "kernelspec": {
   "display_name": "Python 3",
   "language": "python",
   "name": "python3"
  },
  "language_info": {
   "codemirror_mode": {
    "name": "ipython",
    "version": 3
   },
   "file_extension": ".py",
   "mimetype": "text/x-python",
   "name": "python",
   "nbconvert_exporter": "python",
   "pygments_lexer": "ipython3",
   "version": "3.7.6"
  }
 },
 "nbformat": 4,
 "nbformat_minor": 4
}
