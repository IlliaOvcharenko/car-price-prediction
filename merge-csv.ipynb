{
 "cells": [
  {
   "cell_type": "code",
   "execution_count": 8,
   "metadata": {},
   "outputs": [],
   "source": [
    "%load_ext autoreload\n",
    "%autoreload 2"
   ]
  },
  {
   "cell_type": "code",
   "execution_count": 9,
   "metadata": {},
   "outputs": [],
   "source": [
    "import warnings\n",
    "warnings.filterwarnings(\"ignore\")\n",
    "\n",
    "import numpy as np\n",
    "import pandas as pd\n",
    "\n",
    "from pathlib import Path"
   ]
  },
  {
   "cell_type": "code",
   "execution_count": 10,
   "metadata": {},
   "outputs": [],
   "source": [
    "data_folder = Path(\"data\")\n",
    "submissions_folder = Path(\"submissions\")\n",
    "\n",
    "train_df = pd.read_csv(data_folder / \"train.csv\", index_col=0)\n",
    "test_df = pd.read_csv(data_folder / \"test_no_target.csv\", index_col=0)\n",
    "zipcodes_df = pd.read_csv(data_folder / \"zipcodes.csv\", index_col=0)\n",
    "\n",
    "train_df = pd.merge(train_df.reset_index(), zipcodes_df.drop_duplicates(\"zipcode\"), on=\"zipcode\", how=\"left\")\n",
    "test_df = pd.merge(test_df.reset_index(), zipcodes_df.drop_duplicates(\"zipcode\"), on=\"zipcode\", how=\"left\")"
   ]
  },
  {
   "cell_type": "code",
   "execution_count": 13,
   "metadata": {},
   "outputs": [
    {
     "name": "stdout",
     "output_type": "stream",
     "text": [
      "lgbm-dart-lr-002-it-4000-new-test-encoding-stratkfold.csv\n",
      "lgbm-dart-lr-002-it-4000-stratkfold.csv\n",
      "lgbm-dart-new-test-encoding-stratkfold.csv\n",
      "lgbm-dart-new-test-encoding-full.csv\n",
      "lgbm-dart-lr-003-it-2000-stratkfold.csv\n",
      "blend-v2.csv\n"
     ]
    }
   ],
   "source": [
    "subs = [\n",
    "    \"lgbm-dart-lr-002-it-4000-new-test-encoding-stratkfold.csv\",\n",
    "    \"lgbm-dart-lr-002-it-4000-stratkfold.csv\",\n",
    "    \"lgbm-dart-new-test-encoding-stratkfold.csv\",\n",
    "    \"lgbm-dart-new-test-encoding-full.csv\",\n",
    "    \"lgbm-dart-lr-003-it-2000-stratkfold.csv\",\n",
    "    \"blend-v2.csv\",\n",
    "]\n",
    "\n",
    "subs_df = []\n",
    "for sub in subs:\n",
    "    print(sub)\n",
    "    subs_df.append(pd.read_csv(submissions_folder / sub))"
   ]
  },
  {
   "cell_type": "code",
   "execution_count": 14,
   "metadata": {},
   "outputs": [],
   "source": [
    "res_df = subs_df[0].copy()\n",
    "res_df[\"Predicted\"] = pd.concat(subs_df, axis=1)[\"Predicted\"].mean(1)"
   ]
  },
  {
   "cell_type": "code",
   "execution_count": 15,
   "metadata": {},
   "outputs": [],
   "source": [
    "res_df.to_csv(submissions_folder / \"blend-v4.csv\", index=False)"
   ]
  }
 ],
 "metadata": {
  "kernelspec": {
   "display_name": "Python 3",
   "language": "python",
   "name": "python3"
  },
  "language_info": {
   "codemirror_mode": {
    "name": "ipython",
    "version": 3
   },
   "file_extension": ".py",
   "mimetype": "text/x-python",
   "name": "python",
   "nbconvert_exporter": "python",
   "pygments_lexer": "ipython3",
   "version": "3.7.6"
  }
 },
 "nbformat": 4,
 "nbformat_minor": 4
}
